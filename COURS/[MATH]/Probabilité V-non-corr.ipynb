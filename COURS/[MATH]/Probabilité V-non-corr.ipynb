{
 "cells": [
  {
   "cell_type": "code",
   "execution_count": 3,
   "metadata": {},
   "outputs": [],
   "source": [
    "#Chargement de dépendances\n",
    "\n",
    "import numpy as np\n",
    "import matplotlib.pyplot as plt\n",
    "import scipy.stats as sps #bibliothèque proposant densités, fonctions  de répartition, quantiles, etc... de lois usuelles.\n"
   ]
  },
  {
   "cell_type": "markdown",
   "metadata": {},
   "source": [
    "Dans ce document, on commence par donner quelques exemples d'applications du cours. On se servira des trois librairies ci-dessus. On peut déjà commencer par initialiser le générateur de nombres aléatoires :"
   ]
  },
  {
   "cell_type": "code",
   "execution_count": 9,
   "metadata": {},
   "outputs": [
    {
     "name": "stdout",
     "output_type": "stream",
     "text": [
      "[0.19151945 0.62210877 0.43772774 0.78535858 0.77997581]\n"
     ]
    }
   ],
   "source": [
    "np.random.seed(1234)\n",
    "print(np.random.rand(5))"
   ]
  },
  {
   "cell_type": "markdown",
   "metadata": {},
   "source": [
    "# Préambule : Loi uniforme\n",
    "\n",
    "Génerons un échantillon de 50 nombres uniformes sur $]0,1[$, calculons sa moyenne, sa variance et représentons son histogramme et la densité cible :"
   ]
  },
  {
   "cell_type": "code",
   "execution_count": 13,
   "metadata": {},
   "outputs": [
    {
     "name": "stdout",
     "output_type": "stream",
     "text": [
      "0.6136989175703284\n",
      "0.07073709179434487\n"
     ]
    },
    {
     "data": {
      "image/png": "[encoded data removed]",
      "text/plain": [
       "<Figure size 432x288 with 1 Axes>"
      ]
     },
     "metadata": {
      "needs_background": "light"
     },
     "output_type": "display_data"
    }
   ],
   "source": [
    "u = np.random.rand(50)\n",
    "print(np.mean(u))\n",
    "print(np.var(u))\n",
    "x = np. linspace (0,1,100)\n",
    "f_x = sps.uniform.pdf(x) #Densite uniforme\n",
    "plt.plot(x,f_x ,\"r\",label =\" Theory \")\n",
    "plt.hist(u,bins = 50,density=True, label = \"Data\")\n",
    "plt.legend(loc=\"best\")\n",
    "plt.show()"
   ]
  },
  {
   "cell_type": "markdown",
   "metadata": {},
   "source": [
    "On augmente la taille de l'échantillon :"
   ]
  },
  {
   "cell_type": "code",
   "execution_count": 14,
   "metadata": {},
   "outputs": [
    {
     "name": "stdout",
     "output_type": "stream",
     "text": [
      "0.48658651544395215\n",
      "0.08906363766041067\n"
     ]
    },
    {
     "data": {
      "image/png": "[encoded data removed]",
      "text/plain": [
       "<Figure size 432x288 with 1 Axes>"
      ]
     },
     "metadata": {
      "needs_background": "light"
     },
     "output_type": "display_data"
    }
   ],
   "source": [
    "u = np.random.rand(500)\n",
    "print(np.mean(u))\n",
    "print(np.var(u))\n",
    "plt.plot(x,f_x ,\"r\",label =\" Theory \")\n",
    "plt.hist(u,bins = 50,density=True, label = \"Data\")\n",
    "plt.legend(loc=\"best\")\n",
    "plt.show()"
   ]
  },
  {
   "cell_type": "markdown",
   "metadata": {},
   "source": [
    "On voit que l'estimation des moments se fait plus précise à mesure que la taille de l'échantillon augmente. L'histogramme se rapproche également de la densité cible."
   ]
  },
  {
   "cell_type": "code",
   "execution_count": 15,
   "metadata": {},
   "outputs": [
    {
     "name": "stdout",
     "output_type": "stream",
     "text": [
      "0.49290294592068706\n",
      "0.08523154876608367\n"
     ]
    },
    {
     "data": {
      "image/png": "[encoded data removed]",
      "text/plain": [
       "<Figure size 432x288 with 1 Axes>"
      ]
     },
     "metadata": {
      "needs_background": "light"
     },
     "output_type": "display_data"
    }
   ],
   "source": [
    "u = np.random.rand(1000)\n",
    "print(np.mean(u))\n",
    "print(np.var(u))\n",
    "plt.plot(x,f_x ,\"r\",label =\" Theory \")\n",
    "plt.hist(u,bins = 50,density=True, label = \"Data\")\n",
    "plt.legend(loc=\"best\")\n",
    "plt.show()"
   ]
  },
  {
   "cell_type": "markdown",
   "metadata": {},
   "source": [
    "# Méthode d'inversion\n",
    "\n",
    "## Loi exponentielle\n",
    "\n",
    "On va transformer cet échantillon pour produire des réalisations de la loi exponentielle de paramètre $\\lambda$ par la méthode d'inversion. Soit $X$ une variable aléatoire de loi exponentielle de paramètre $\\lambda$. Sa fonction de répartition est donnée par :\n",
    "$$F_X(x) = 1 - \\exp(-\\lambda x),~~x\\in \\mathbb{R}_+$$\n",
    "Pour calculer son inverse, on résoud $u =  1 - \\exp(-\\lambda x)$. On trouve ainsi\n",
    "$$x = -\\frac{1}{\\lambda}\\log(1-u)$$\n",
    "que l'on peut simplifier en\n",
    "$$x = -\\frac{1}{\\lambda}\\log(u)$$\n",
    "puisque si $U\\sim \\mathcal{U}_{]0,1[}$, alors $1-U \\sim \\mathcal{U}_{]0,1[}$.\n",
    "\n",
    "Pour générer un échantillon de réalisations de la loi exponentielle de paramètre $\\lambda$, on applique donc cette transformation à un échantillon de réalisations de la loi uniforme sur $]0,1[$."
   ]
  },
  {
   "cell_type": "code",
   "execution_count": 17,
   "metadata": {},
   "outputs": [
    {
     "data": {
      "text/plain": [
       "array([1.19279264e+00, 8.92156884e-02, 8.18811848e-01, 3.76913755e-01,\n",
       "       9.39671457e-01, 2.64435827e-01, 1.54661407e+00, 3.75150879e-01,\n",
       "       3.86802951e-01, 1.33068669e-01, 5.98346239e-01, 2.09188666e+00,\n",
       "       1.05997524e+00, 9.53645421e-01, 2.78105061e+00, 2.01245196e-01,\n",
       "       1.90065791e-02, 1.04327055e+00, 2.51760051e+00, 2.15972839e-01,\n",
       "       1.86494830e+00, 9.67578140e-01, 1.74824460e-02, 1.30722145e+00,\n",
       "       1.48424258e+00, 4.33850451e-01, 6.09568895e-01, 7.68337636e-01,\n",
       "       2.48283858e-01, 4.43324392e-01, 1.03427582e+00, 9.64691035e-01,\n",
       "       1.64419895e+00, 1.08798689e+00, 4.66542041e-01, 6.20982724e-01,\n",
       "       8.30507688e-02, 3.42139639e-01, 6.23193363e-01, 4.41189307e-01,\n",
       "       9.55250167e-01, 1.98859445e+00, 4.70602099e-02, 1.28188209e+00,\n",
       "       3.16798284e-01, 2.36082523e+00, 1.46849773e+00, 1.06355852e-01,\n",
       "       3.62775777e-01, 6.84074214e-01, 1.75709667e+00, 2.03214892e-01,\n",
       "       6.18119118e-01, 6.66893547e-01, 5.32328761e-01, 9.15452028e-01,\n",
       "       3.22769528e+00, 2.25495559e+00, 5.02951617e-01, 2.59354465e+00,\n",
       "       8.42898547e-01, 1.71358753e-01, 1.90733153e-01, 9.31361594e-01,\n",
       "       1.79148387e+00, 7.86780948e-01, 3.04932626e+00, 9.54256055e-01,\n",
       "       5.77395090e-01, 1.85731497e-01, 4.68509573e-01, 2.29918463e+00,\n",
       "       5.05798008e-01, 9.20961069e-01, 1.09271676e+00, 1.42422731e-01,\n",
       "       2.27415884e-03, 4.40725693e-01, 3.21098209e-01, 6.67964582e-01,\n",
       "       1.88371942e-01, 4.82474587e-01, 3.08522923e-02, 1.20575287e+00,\n",
       "       1.67555526e-01, 6.02860404e-01, 3.17801703e+00, 2.40619156e+00,\n",
       "       1.21857633e-02, 1.46491637e+00, 2.02906144e+00, 1.30417817e+00,\n",
       "       2.41102108e+00, 2.96779186e+00, 8.40008036e-01, 3.45717068e-01,\n",
       "       7.66931552e-02, 1.06411375e-01, 1.12146106e+00, 1.70510379e+00,\n",
       "       2.49754039e-01, 4.47201255e-01, 5.94268908e-01, 5.68037100e-01,\n",
       "       2.73345584e-01, 4.68744181e-01, 1.25343741e+00, 1.43254265e+00,\n",
       "       8.62691104e-01, 2.45450621e+00, 3.02670915e-01, 1.21568683e+00,\n",
       "       1.04331314e+00, 5.92255541e-01, 1.43690315e+00, 1.81262407e+00,\n",
       "       9.84895380e-01, 1.39321550e-01, 6.94099393e-01, 1.11282394e+00,\n",
       "       5.35849841e-01, 3.11562803e+00, 5.74611305e-02, 1.10649896e-01,\n",
       "       1.26236378e-01, 1.03531439e+00, 5.84452687e-01, 4.32003291e-01,\n",
       "       2.46459090e-01, 5.23303067e+00, 3.39116295e-01, 3.38457625e+00,\n",
       "       1.88721491e-01, 3.40983341e-01, 7.06391250e-01, 4.58559772e+00,\n",
       "       5.50095192e-01, 1.95016673e+00, 2.18067939e+00, 1.64486780e+00,\n",
       "       2.92668952e-01, 1.52637649e+00, 2.14818932e+00, 3.50478265e-01,\n",
       "       1.69752171e-01, 7.28721610e-01, 2.41119801e+00, 1.98541861e-01,\n",
       "       1.20606145e+00, 1.60220663e+00, 5.33817375e-01, 7.28914683e-01,\n",
       "       1.49957288e-01, 2.27252955e-01, 1.95102783e-01, 3.36722454e-01,\n",
       "       2.76899049e-01, 5.48235714e-01, 1.92324270e-02, 5.73332575e-01,\n",
       "       2.18107366e+00, 1.15927419e+00, 5.40796775e-01, 3.64913160e-01,\n",
       "       7.56044003e-01, 7.64920718e-01, 1.85318759e+00, 8.71151953e-02,\n",
       "       3.26207379e-01, 5.80692551e-01, 1.69642767e+00, 3.46777448e-01,\n",
       "       5.36793672e-01, 7.67055288e-01, 1.09724809e+00, 5.80805247e-01,\n",
       "       2.36433367e+00, 2.35158535e-01, 6.71543665e-01, 1.66000317e+00,\n",
       "       4.36122931e-01, 6.92183123e-02, 1.61889073e+00, 9.72967527e-02,\n",
       "       9.00202733e-01, 6.66965710e-01, 5.01994728e-01, 2.26114482e-01,\n",
       "       1.60580684e+00, 1.24584510e+00, 1.88235103e-01, 9.97831014e-02,\n",
       "       3.12737790e-01, 1.31557843e+00, 7.50830266e-01, 2.54034762e+00,\n",
       "       4.71875992e+00, 5.82804698e-01, 4.52226154e-02, 3.36508279e+00,\n",
       "       2.73122446e+00, 5.46572613e-01, 1.31300867e+00, 7.35616111e-01,\n",
       "       1.15958178e+00, 1.36641998e-01, 8.98892528e-01, 2.21941252e+00,\n",
       "       7.40189290e-01, 1.79156634e-02, 2.70484185e+00, 1.59875822e-01,\n",
       "       1.45565233e-02, 1.52532745e+00, 3.10487106e+00, 2.00915264e-02,\n",
       "       7.84149634e-01, 2.88474879e+00, 1.22536631e-01, 1.78791922e+00,\n",
       "       2.43114693e-01, 1.99692776e+00, 1.40645669e+00, 8.88477089e-02,\n",
       "       1.15426113e+00, 9.63024544e-01, 1.87864296e+00, 7.92732954e-01,\n",
       "       5.51434890e-02, 4.56138127e-01, 5.42452083e-01, 2.18178040e+00,\n",
       "       4.39946083e-01, 8.65824040e-01, 1.03229832e-01, 2.40414691e-01,\n",
       "       7.77938568e-02, 1.08594021e+00, 3.28374212e-01, 1.93922380e-01,\n",
       "       7.60207641e-01, 1.08263454e+00, 8.30194983e-02, 6.44404480e-02,\n",
       "       3.98570734e-01, 1.97324815e+00, 7.36871858e-02, 2.39517268e-01,\n",
       "       7.76803679e-01, 4.62411667e+00, 2.60869995e-01, 1.10681166e+00,\n",
       "       6.10368022e-01, 3.09086566e-01, 1.24608608e-01, 2.77384396e+00,\n",
       "       1.34954938e+00, 6.30774264e-01, 7.07461708e-01, 6.99313761e-02,\n",
       "       2.89278379e+00, 4.43985403e-02, 1.07852099e+00, 5.72379678e-01,\n",
       "       3.70744257e-01, 6.99085685e-01, 4.06563002e+00, 1.74370134e-01,\n",
       "       2.71548600e-01, 1.08622306e+00, 7.30143713e-01, 9.74024367e-01,\n",
       "       7.46380732e-01, 3.45459023e-01, 4.42924102e-01, 8.73867375e-01,\n",
       "       1.80467076e+00, 5.89590159e-01, 1.10345591e+00, 1.68047951e-01,\n",
       "       1.86081372e+00, 1.77340515e+00, 2.88532450e+00, 3.35589846e-02,\n",
       "       6.00896179e-01, 1.13944264e+00, 2.00741731e+00, 8.62111968e-01,\n",
       "       4.02722245e-02, 9.71571531e-01, 5.84731099e-02, 2.00672622e-01,\n",
       "       5.87698270e-01, 6.10009504e-02, 9.22911762e-01, 7.56742300e-02,\n",
       "       7.39774926e-01, 2.95391551e+00, 3.81527658e+00, 1.56343331e+00,\n",
       "       3.55872186e+00, 8.23906250e-01, 1.17662109e+00, 1.90277699e+00,\n",
       "       2.24381437e-01, 4.19530274e-01, 4.61422759e-01, 1.83661799e-01,\n",
       "       1.32173479e-01, 4.99636336e-01, 1.24360844e+00, 4.07669884e-01,\n",
       "       1.93807918e-01, 3.94882135e-02, 3.27465802e+00, 2.97923917e-01,\n",
       "       4.39613044e-01, 3.97076995e-01, 1.68966499e-01, 4.01688774e-01,\n",
       "       2.70573454e-01, 6.27635583e-01, 4.44226376e-01, 6.07981839e-01,\n",
       "       3.39512020e-01, 2.85262411e+00, 7.97530248e-01, 2.57559070e-01,\n",
       "       1.83740471e-01, 2.70595857e+00, 5.77205330e-02, 1.96061466e+00,\n",
       "       4.21453875e-01, 2.17034330e+00, 2.92067035e-01, 5.93920376e-01,\n",
       "       2.89371607e+00, 1.59360828e-01, 4.46293957e-01, 8.46804546e-01,\n",
       "       2.41415369e+00, 3.26046743e+00, 1.28805749e+00, 9.92365260e-01,\n",
       "       1.19810615e-01, 3.08649923e+00, 6.15206617e-01, 1.11971760e+00,\n",
       "       1.37868531e+00, 4.50151846e-01, 1.57203035e+00, 2.89899399e+00,\n",
       "       3.10732872e-01, 1.77928497e+00, 1.94608077e+00, 8.79872010e-01,\n",
       "       1.26557018e+00, 5.71326027e-01, 6.77682961e-01, 2.18965337e+00,\n",
       "       7.54274582e-01, 1.93541973e+00, 1.15996444e+00, 4.68785588e-01,\n",
       "       1.14639247e-01, 5.44733110e-01, 3.18755305e-01, 7.00611702e-01,\n",
       "       5.25959797e-01, 8.16935288e-01, 4.46594266e-01, 2.59105661e+00,\n",
       "       7.90937559e-01, 1.29394791e+00, 1.23967578e-01, 1.66453568e+00,\n",
       "       1.05685592e+00, 2.03202377e-01, 1.46874579e-01, 1.06860535e+00,\n",
       "       2.61165011e+00, 8.97832997e-01, 1.14616005e+00, 1.94623552e+00,\n",
       "       1.35750173e-01, 1.42158116e+00, 7.31434030e-02, 3.17362491e-01,\n",
       "       9.99155865e-01, 1.07971742e+00, 2.73196133e+00, 8.70266532e-01,\n",
       "       5.87094226e-01, 9.53360710e-01, 1.71480884e+00, 6.96973645e-01,\n",
       "       8.14306670e-01, 1.05666738e-01, 1.05469169e+00, 6.78121700e+00,\n",
       "       1.61333292e+00, 6.83643583e-01, 2.77303249e-01, 9.04305635e-02,\n",
       "       1.44660166e+00, 4.32546780e-01, 5.31008783e-01, 3.70953700e-01,\n",
       "       3.61916715e-01, 8.75611979e-01, 2.84475391e-01, 8.11181553e-01,\n",
       "       2.30692039e+00, 1.23705693e-01, 6.34951656e-01, 2.33804602e-01,\n",
       "       6.31372749e-02, 1.39792820e+00, 1.11758263e+00, 2.09065268e-01,\n",
       "       8.92887557e-01, 1.27645231e+00, 1.99374452e-01, 4.64449058e-01,\n",
       "       5.33027024e-01, 5.27315562e-01, 5.78613323e-01, 1.25665464e+00,\n",
       "       3.15054382e-01, 2.05199833e+00, 8.97439326e-01, 6.96574389e-01,\n",
       "       9.05123823e-01, 2.28074652e+00, 2.47426212e+00, 2.29486472e-02,\n",
       "       2.49113606e-02, 6.83473954e-01, 2.04581642e-01, 2.75655344e-01,\n",
       "       7.63867078e-01, 8.17745702e-01, 1.08344086e-01, 1.13979787e+00,\n",
       "       3.43759650e-01, 4.71445224e+00, 3.44633991e-01, 4.30351949e-01,\n",
       "       2.56842525e+00, 6.76953686e-01, 6.24399614e-02, 4.69323563e-01,\n",
       "       2.80586276e-01, 1.21642519e+00, 1.22696142e+00, 2.37310507e+00,\n",
       "       9.97902421e-01, 3.08319437e-01, 3.40499874e+00, 9.95612560e-01,\n",
       "       1.15690364e+00, 3.85437285e-01, 2.68248305e+00, 3.64013230e-01,\n",
       "       1.39773537e+00, 4.83324286e-01, 4.34355310e-01, 6.44223142e-01,\n",
       "       2.51504615e-01, 4.47542453e+00, 2.07825931e+00, 1.70887629e-01,\n",
       "       4.13221558e-01, 4.82432996e-01, 1.22324461e-02, 4.06128820e-01,\n",
       "       1.53497162e+00, 8.50241594e-02, 1.33984751e+00, 2.34894155e-01,\n",
       "       6.74540456e-01, 4.04430945e-01, 6.16730669e-01, 2.45055920e+00,\n",
       "       5.65878341e-01, 1.98941440e-01, 5.47509006e+00, 1.18102857e-01,\n",
       "       1.79015953e+00, 1.99491869e-02, 1.11411056e+00, 3.42078272e-01,\n",
       "       1.09101823e+00, 1.13991289e+00, 2.02305942e-01, 4.47532691e-01,\n",
       "       1.43332610e-02, 3.31514395e-01, 7.34248486e-01, 3.21629776e-01,\n",
       "       4.88392273e-01, 2.26899155e-01, 4.77707957e-02, 2.40718205e+00,\n",
       "       1.57381215e+00, 4.59607318e-01, 1.19698225e+00, 6.40471198e-01,\n",
       "       4.22643108e-01, 1.59130176e-01, 3.96483039e-01, 1.18656289e+00,\n",
       "       6.98418320e-01, 1.10897123e+00, 1.52287161e+00, 2.63576775e+00,\n",
       "       4.00133307e-01, 1.36740632e+00, 2.51474746e+00, 2.34101320e-01,\n",
       "       6.31438720e-02, 3.73801042e-01, 5.68380684e-01, 3.68066229e-01,\n",
       "       2.38242101e-01, 3.36880835e-01, 4.98275835e-01, 2.08723872e+00,\n",
       "       1.96570223e+00, 1.70497832e+00, 3.23354837e-01, 4.55888395e-01,\n",
       "       9.39018312e-01, 2.79537819e-01, 4.60547566e-01, 3.87252274e-01,\n",
       "       3.98731613e+00, 1.16623518e-01, 3.00796053e-01, 1.07837498e+00,\n",
       "       4.15380741e-01, 3.94204866e-01, 4.05138407e-01, 1.68281984e-02,\n",
       "       7.11541538e-01, 4.20247710e-01, 8.99008660e-02, 2.69428001e+00,\n",
       "       2.91047305e-02, 4.84945188e-01, 4.54739438e-01, 1.61933745e+00,\n",
       "       2.60954912e-01, 3.12299778e-01, 1.29893531e+00, 1.74472092e-01,\n",
       "       5.40742615e-01, 2.54019755e+00, 7.29614146e-01, 1.62809068e+00,\n",
       "       2.05846281e+00, 4.03378082e-01, 1.26237319e-01, 4.22164573e-01,\n",
       "       4.27369880e-01, 5.95111779e-01, 3.55265654e-01, 1.08581975e+00,\n",
       "       8.99224446e-01, 7.47708502e-01, 1.00741393e+00, 6.80939931e-01,\n",
       "       9.62955906e-01, 7.85748942e-01, 2.50134778e-01, 4.84296274e+00,\n",
       "       4.69000936e-01, 5.50248278e-01, 1.44725880e+00, 3.77320769e-01,\n",
       "       2.19321509e-02, 3.79498076e-01, 2.03836989e+00, 1.74631815e+00,\n",
       "       1.04601333e+00, 8.44972283e-01, 2.13801226e+00, 2.52788991e-01,\n",
       "       2.15559778e+00, 9.71988310e-01, 8.75292888e-03, 1.00137647e-01,\n",
       "       8.29160793e-01, 9.26328431e-01, 3.09158224e+00, 1.95237393e+00,\n",
       "       7.63842612e-01, 5.60830532e-01, 1.61522725e+00, 1.68055383e+00,\n",
       "       7.54776096e-01, 7.97346483e-02, 5.23423936e-01, 1.52451291e+00,\n",
       "       6.32572671e-01, 5.72073609e-01, 8.06941270e-01, 3.46941738e+00,\n",
       "       1.02229245e-01, 4.90523980e-01, 6.19560165e-01, 4.10610397e-01,\n",
       "       1.80344130e+00, 2.44867383e-01, 1.63768798e+00, 1.37332546e+00,\n",
       "       7.93847665e-02, 3.59499014e-01, 8.54544643e-01, 1.74044748e-01,\n",
       "       3.01334948e-01, 3.03457615e-01, 2.24636778e+00, 1.53771573e+00,\n",
       "       1.93073833e-01, 1.40068640e+00, 1.96957644e-01, 1.41333760e+00,\n",
       "       4.30333652e-01, 9.84428244e-01, 1.76044045e+00, 7.35471893e-01,\n",
       "       7.97892189e-01, 1.00760898e+00, 1.52594396e+00, 9.35807077e-01,\n",
       "       1.54167803e+00, 8.91088883e-01, 6.65242839e-02, 2.62854138e+00,\n",
       "       6.31291267e-01, 2.49141713e-02, 4.14334957e-01, 1.05875727e-01,\n",
       "       1.20051382e-01, 1.25148059e+00, 6.97974494e-02, 3.66408829e-01,\n",
       "       4.14725396e-02, 9.03492562e-01, 3.61930903e+00, 5.70230076e-01,\n",
       "       2.51835004e+00, 6.06350010e-02, 3.05999630e-01, 4.24951660e-01,\n",
       "       1.05984749e+00, 2.79505345e+00, 1.57006450e-01, 4.27490087e-01,\n",
       "       1.04595650e+00, 7.80434175e-01, 6.43134210e-01, 3.73447943e-01,\n",
       "       5.62758738e+00, 7.67433632e-01, 1.01619334e+00, 2.62804357e-01,\n",
       "       4.33817763e-01, 3.52120215e-01, 1.26278973e+00, 1.31735253e+00,\n",
       "       1.23673198e+00, 1.37778669e+00, 5.89981056e-01, 1.41152872e+00,\n",
       "       4.65159324e-02, 8.26158726e-01, 4.62055772e-01, 2.51900810e+00,\n",
       "       1.36232348e+00, 1.60193506e+00, 1.65583399e-01, 1.26936238e-01,\n",
       "       3.24344020e-01, 5.95264261e-01, 8.60540238e-02, 1.98433364e+00,\n",
       "       3.62766303e-01, 5.61239287e-01, 1.08531088e+00, 2.76964015e-01,\n",
       "       1.80044671e-01, 8.37583101e-02, 2.23279860e+00, 7.03921556e-01,\n",
       "       1.48703533e-01, 5.19789425e-01, 5.45857684e-02, 3.39007269e-02,\n",
       "       2.43917109e-01, 1.10321050e-01, 7.74717498e-01, 3.69143084e+00,\n",
       "       1.23606292e-01, 5.49763384e-01, 6.44001642e-01, 4.40718272e-01,\n",
       "       1.34773214e+00, 2.20413122e-02, 4.33166888e+00, 1.60284338e+00,\n",
       "       1.23127135e+00, 1.83193325e+00, 7.25723172e-01, 4.37514539e-01,\n",
       "       8.83310689e-01, 4.92594595e-01, 5.35210586e-01, 1.63731106e-01,\n",
       "       6.47655555e-01, 2.08687409e-01, 6.58070776e-01, 5.39219645e-02,\n",
       "       1.94124549e+00, 2.89762313e+00, 6.73257216e-02, 1.53724426e+00,\n",
       "       1.30553167e+00, 1.83751288e-01, 2.52168861e-01, 5.58384394e-01,\n",
       "       1.19054364e+00, 3.39273311e-01, 4.08162271e-02, 3.51600416e-02,\n",
       "       2.18533717e-01, 1.43502986e-01, 3.52595776e-02, 9.58698764e-01,\n",
       "       4.34261083e-01, 4.47439192e-01, 1.52278800e+00, 1.20148845e-01,\n",
       "       5.73637486e-01, 1.20956969e+00, 1.01737298e+00, 3.85374243e+00,\n",
       "       2.72011329e-01, 1.27483075e+00, 1.29345655e+00, 2.06331659e+00,\n",
       "       3.67171421e+00, 2.36914022e-01, 1.86639904e+00, 2.97400910e-04,\n",
       "       1.62996684e+00, 3.15942440e+00, 7.43668685e-01, 3.01201604e-02,\n",
       "       2.93701034e+00, 1.22498453e+00, 1.30556127e-01, 1.04261985e+00,\n",
       "       1.20149046e+00, 1.34747707e+00, 4.05296935e-01, 8.29971133e-02,\n",
       "       1.49619830e-01, 1.73402824e+00, 4.48885288e-01, 2.47712800e+00,\n",
       "       1.81453054e-01, 3.95642796e-01, 1.65932665e+00, 4.35021039e-01,\n",
       "       5.33009949e-01, 9.28055419e-01, 5.51968983e-01, 1.68922941e+00,\n",
       "       2.01855330e+00, 2.27371199e+00, 5.52965154e-01, 1.15113459e+00,\n",
       "       1.67675032e-01, 2.33459312e+00, 7.85583096e-01, 5.28264128e-01,\n",
       "       3.86324199e-01, 4.92809398e-01, 9.29491253e-01, 4.42141093e-01,\n",
       "       4.29030238e-01, 3.32040007e-02, 1.10322774e+00, 4.86649462e+00,\n",
       "       2.66458430e-02, 6.09882680e-01, 2.27218057e+00, 3.99674937e+00,\n",
       "       1.56125581e-01, 5.57312826e-01, 1.06255016e-01, 3.15878909e-01,\n",
       "       3.02020042e-02, 1.14325290e-01, 6.75372070e-01, 5.70529212e-01,\n",
       "       1.88130294e-01, 2.59469268e+00, 7.25828490e-01, 2.36234233e-01,\n",
       "       1.05695870e+00, 1.41557951e+00, 4.16139083e-01, 1.02220170e+00,\n",
       "       5.57565800e-01, 1.09596922e+00, 5.73437919e-02, 2.79067609e+00,\n",
       "       1.37762127e+00, 8.06246948e-01, 1.85548245e+00, 1.50440433e+00,\n",
       "       1.23024811e+00, 6.62993509e-01, 1.31758696e-01, 4.18302612e-02,\n",
       "       4.41690126e-02, 1.29127445e-01, 1.00121161e-01, 3.31386413e-01,\n",
       "       2.84867469e+00, 6.93938536e-01, 1.86119294e-02, 1.98224975e+00,\n",
       "       4.63655319e-01, 1.60476243e-01, 1.95035276e+00, 3.95609336e+00,\n",
       "       6.08642358e-01, 2.64639068e-01, 2.88229360e-02, 2.83497741e-01,\n",
       "       1.29403262e+00, 2.25616740e+00, 2.45174441e-01, 2.30663882e-02,\n",
       "       4.79885062e-01, 7.26742463e-01, 1.50788475e+00, 5.44923158e-01,\n",
       "       4.43794772e-01, 7.22996259e-02, 2.71690462e-02, 1.40649892e+00,\n",
       "       2.28529049e-02, 2.15680302e+00, 2.47858849e-01, 7.20733491e-01,\n",
       "       2.15745913e-01, 7.95347081e-01, 2.65257496e+00, 1.54072882e+00,\n",
       "       1.05087094e-01, 6.26545408e-01, 1.69021656e-01, 1.24016742e+00,\n",
       "       4.33528868e-01, 6.43270427e-01, 2.18821438e+00, 9.89961379e-02,\n",
       "       1.36254028e+00, 1.07560630e-01, 1.01503667e+00, 1.44849450e+00,\n",
       "       3.01233332e+00, 3.89277851e-01, 1.08110216e+00, 6.56640490e-01,\n",
       "       1.05898727e+00, 1.04127759e+00, 1.21773377e-01, 1.41609111e+00,\n",
       "       3.34017307e+00, 2.22168393e+00, 2.78836717e-01, 2.56301704e+00,\n",
       "       9.56976849e-01, 1.01160637e-01, 3.55967398e-01, 1.12736600e+00,\n",
       "       6.57159170e-01, 4.43686478e-01, 1.22642035e+00, 1.87518355e-01,\n",
       "       2.44347147e-01, 3.43222928e-01, 7.80579608e-01, 2.12959542e+00,\n",
       "       2.82201922e-01, 3.98052111e-01, 2.29043295e+00, 6.73761701e-01,\n",
       "       1.25793986e-01, 1.80272770e-01, 4.36140329e-01, 1.43321459e+00,\n",
       "       2.11739018e+00, 1.30182761e-01, 1.91012202e+00, 2.43389637e+00,\n",
       "       7.79624323e-01, 1.04463289e+00, 2.31315967e-01, 4.67081330e-01,\n",
       "       1.29020818e+00, 2.93425423e+00, 2.55299118e+00, 7.66614701e-01,\n",
       "       1.07795903e+00, 7.37173358e-01, 1.28939991e-02, 2.08662102e+00,\n",
       "       1.19604012e+00, 8.66714382e-01, 5.22068811e-01, 6.10977031e-01,\n",
       "       1.55333210e-01, 2.07456018e+00, 3.05251878e-03, 1.31965890e+00,\n",
       "       1.86413457e+00, 4.28919173e-01, 1.81936897e+00, 2.33271559e+00,\n",
       "       7.02978682e-02, 3.56632506e+00, 7.74543392e-01, 4.75118757e-01,\n",
       "       6.23074495e-01, 2.58805552e+00, 9.81762807e-01, 5.98562153e-03,\n",
       "       2.35024691e+00, 2.78730977e-01, 3.66910648e+00, 3.39570620e-01,\n",
       "       8.53768209e-01, 2.03559945e+00, 3.22259556e+00, 1.74584250e-01,\n",
       "       3.78813129e+00, 3.23889884e-01, 2.58279165e-01, 1.21743494e+00,\n",
       "       1.65548020e+00, 3.84791237e-01, 1.69211242e+00, 1.32376015e-01,\n",
       "       6.54913794e-01, 5.55135587e-01, 9.89759048e-01, 1.67445863e+00,\n",
       "       2.03891497e+00, 1.44880914e+00, 1.32843299e+00, 4.15522590e-01,\n",
       "       1.77041107e+00, 8.06579518e-04, 1.66602766e-01, 3.80236273e-01,\n",
       "       3.65846255e+00, 2.03317197e+00, 2.15545381e-01, 1.76951895e-01,\n",
       "       3.32548698e-01, 1.43079841e+00, 5.40589984e-01, 9.53444374e-02,\n",
       "       4.85267961e-01, 2.55682926e-01, 6.44948470e-01, 1.71268711e-01,\n",
       "       8.07017951e-01, 4.70959537e-01, 6.85271006e-01, 2.70073675e-02,\n",
       "       9.46969044e-01, 2.50776087e+00, 1.06191158e+00, 1.86739003e+00,\n",
       "       1.71029214e+00, 1.02722194e+00, 9.53497144e-01, 1.92269363e+00,\n",
       "       8.41363771e-01, 2.02792557e+00, 8.70588102e-01, 7.75344366e-01])"
      ]
     },
     "execution_count": 17,
     "metadata": {},
     "output_type": "execute_result"
    }
   ],
   "source": [
    "param = 1\n",
    "y = -1/param * np.log(np.random.rand(1000))\n",
    "y"
   ]
  },
  {
   "cell_type": "markdown",
   "metadata": {},
   "source": [
    "De même, on peut réprésenter son histogramme et y superposer la densité exponentielle"
   ]
  },
  {
   "cell_type": "code",
   "execution_count": 18,
   "metadata": {},
   "outputs": [
    {
     "data": {
      "image/png": "[encoded data removed]",
      "text/plain": [
       "<Figure size 432x288 with 1 Axes>"
      ]
     },
     "metadata": {
      "needs_background": "light"
     },
     "output_type": "display_data"
    }
   ],
   "source": [
    "x = np. linspace (0,10,1000)\n",
    "f_x = sps.expon.pdf(x) #Densite exponentielle\n",
    "plt.plot(x,f_x ,\"r\",label =\" Theory \")\n",
    "plt.hist(y,bins = 100,density=True, label = \"Data\")\n",
    "plt.legend(loc=\"best\")\n",
    "plt.show()"
   ]
  },
  {
   "cell_type": "markdown",
   "metadata": {},
   "source": [
    "En pratique, on utilisera plutôt les fonctions internes de numpy pour simuler des réalisations selon les lois usuelles. Voir :\n",
    "\n",
    "https://docs.scipy.org/doc/numpy-1.13.0/reference/routines.random.html"
   ]
  },
  {
   "cell_type": "code",
   "execution_count": 19,
   "metadata": {},
   "outputs": [
    {
     "data": {
      "image/png": "[encoded data removed]",
      "text/plain": [
       "<Figure size 432x288 with 1 Axes>"
      ]
     },
     "metadata": {
      "needs_background": "light"
     },
     "output_type": "display_data"
    }
   ],
   "source": [
    "x = np. linspace (0,10,1000)\n",
    "f_x = sps.expon.pdf(x) #Densite exponentielle\n",
    "y = np.random.exponential(param,1000)\n",
    "plt.plot(x,f_x ,\"r\",label =\" Theory \")\n",
    "plt.hist(y,bins = 100,density=True, label = \"Data\")\n",
    "plt.legend(loc=\"best\")\n",
    "plt.show()"
   ]
  },
  {
   "cell_type": "markdown",
   "metadata": {},
   "source": [
    "## Loi uniforme dans un domaine \n",
    "### Domaine A"
   ]
  },
  {
   "cell_type": "code",
   "execution_count": 21,
   "metadata": {},
   "outputs": [
    {
     "data": {
      "image/png": "[encoded data removed]",
      "text/plain": [
       "<Figure size 432x288 with 1 Axes>"
      ]
     },
     "metadata": {
      "needs_background": "light"
     },
     "output_type": "display_data"
    }
   ],
   "source": [
    "n=100\n",
    "\n",
    "def rtri(n):\n",
    "    x= np.empty([n,2])\n",
    "    i=0\n",
    "    while i < n :\n",
    "\t    u1 = np.random.rand(1)\n",
    "\t    u2 = np.random.rand(1)\n",
    "\t    if u2 < 1-u1 :\n",
    "\t\t    x[i,0] = u1\n",
    "\t\t    x[i,1] = u2\n",
    "\t\t    i=i+1\n",
    "\t\n",
    "    return x\t\n",
    "\n",
    "tri = rtri(n)\n",
    "\n",
    "plt.scatter(tri[:,0],tri[:,1],)\n",
    "plt.show()"
   ]
  },
  {
   "cell_type": "markdown",
   "metadata": {},
   "source": [
    "### Domaine B"
   ]
  },
  {
   "cell_type": "code",
   "execution_count": null,
   "metadata": {},
   "outputs": [],
   "source": [
    "n=100\n",
    "def rB(n):\n",
    "    x=np.empty([n,2])\n",
    "    i=0\n",
    "    while i < n :\n",
    "\t    u1 = ####\n",
    "\t    u2 = ####\n",
    "\t    if ##### :\n",
    "\t\t    x[i,0] = u1\n",
    "\t\t    x[i,1] = u2\n",
    "\t\t    i=i+1\n",
    "\t\n",
    "    return x\t\n",
    "\n",
    "B = rB(n)\n",
    "\n",
    "plt.scatter(B[:,0],B[:,1],)\n",
    "plt.show()"
   ]
  },
  {
   "cell_type": "markdown",
   "metadata": {},
   "source": [
    "### domaine C"
   ]
  },
  {
   "cell_type": "code",
   "execution_count": null,
   "metadata": {},
   "outputs": [],
   "source": [
    "n=100\n",
    "def rC(n):\n",
    "    x=np.empty([n,2])\n",
    "    i=0\n",
    "    while i < n :\n",
    "\t    u1 = ####\n",
    "\t    u2 = ####\n",
    "\t    if ##### :\n",
    "\t\t    x[i,0] = u1\n",
    "\t\t    x[i,1] = u2\n",
    "\t\t    i=i+1\n",
    "\t\n",
    "    return x\t\n",
    "\n",
    "C = rC(n)\n",
    "\n",
    "plt.scatter(C[:,0],C[:,1],)\n",
    "plt.show()"
   ]
  },
  {
   "cell_type": "markdown",
   "metadata": {},
   "source": [
    "## Simulation selon la loi géométrique\n",
    "### Question 2"
   ]
  },
  {
   "cell_type": "code",
   "execution_count": null,
   "metadata": {},
   "outputs": [],
   "source": [
    "n=1000\n",
    "p=0.6\n",
    "q=0.4\n",
    "def rgeom(n,p):\n",
    "    x=np.empty(n)\n",
    "    for i in range(n) :\n",
    "\t    ok= False\n",
    "\t    k=0\n",
    "\t    while not ok :\n",
    "\t\t    ok= ####\n",
    "\t\t    k= ####\n",
    "\t\n",
    "\t    x[i]=k\n",
    "\n",
    "    return x\n",
    "\n",
    "y = rgeom(n,p)\n",
    "\n",
    "# Empirical (experimental) mean\n",
    "np.mean(y)\n",
    "# Expectation (theoretical mean)\n",
    "1/p\n",
    "# or equivalently\n",
    "1/(1-q)\n",
    "\t\n",
    "# Empirical variance\n",
    "np.var(y)\n",
    "# Theoretical variance\n",
    "(1-p)/p**2\n",
    "# or equivalently\n",
    "q/(1-q)**2\n",
    "\n",
    "# histogram\n",
    "d = np.diff(np.unique(y)).min()\n",
    "left_of_first_bin = y.min() - float(d)/2\n",
    "right_of_last_bin = y.max() + float(d)/2\n",
    "plt.hist(y, np.arange(left_of_first_bin, right_of_last_bin + d, d),density = True)\n",
    "plt.show()\n"
   ]
  },
  {
   "cell_type": "markdown",
   "metadata": {},
   "source": [
    "### Question 4"
   ]
  },
  {
   "cell_type": "code",
   "execution_count": null,
   "metadata": {},
   "outputs": [],
   "source": [
    "n = 1000\n",
    "lambd = ##### \n",
    "y = ##### \n",
    "# Empirical (experimental) mean\n",
    "np.mean(y)\n",
    "# Expectation (theoretical mean)\n",
    "1/p\n",
    "# or equivalently\n",
    "1/(1-q)\n",
    "\t\n",
    "# Empirical variance\n",
    "np.var(y)\n",
    "# Theoretical variance\n",
    "(1-p)/p**2\n",
    "# or equivalently\n",
    "q/(1-q)**2\n",
    "\n",
    "# histogram\n",
    "d = np.diff(np.unique(y)).min()\n",
    "left_of_first_bin = y.min() - float(d)/2\n",
    "right_of_last_bin = y.max() + float(d)/2\n",
    "plt.hist(y, np.arange(left_of_first_bin, right_of_last_bin + d, d),density = True)\n",
    "plt.show()"
   ]
  },
  {
   "cell_type": "markdown",
   "metadata": {},
   "source": [
    "## Simulation de la loi gaussienne par la méthode du rejet\n",
    "### Question 4\n",
    "On rappelle qu'une variable de loi de Laplace peut s'obtenir à partir d'une variable uniforme sur ]0,1[ de la manière suivante : \n",
    "$X = \\text{sgn}(U - 1/2)\\ln(1-2|U-1/2|)$"
   ]
  },
  {
   "cell_type": "code",
   "execution_count": null,
   "metadata": {},
   "outputs": [],
   "source": [
    "# function simulating n symmetric\n",
    "# exponential variables (Laplace distribution)\n",
    "# with parameter 1\n",
    "\n",
    "def rlaplace(n):\n",
    "    u = np.random.rand(n)\n",
    "    x = ###\n",
    "    return x \n",
    "\n",
    "# function simulating n Gaussian random variables\n",
    "# with mean 0 and variance 1 by rejection algorithm\n",
    "\n",
    "def rgaussian(n):\n",
    "    C= ########\n",
    "    x=np.empty(n)\n",
    "\n",
    "    for i in range(n) :\n",
    "\t    y= #####\n",
    "\t    u= ######\n",
    "\t    a= ######\n",
    "\n",
    "\t    while a>sps.norm.pdf(y) :\n",
    "\t\t    y= ####\n",
    "\t\t    u= ####\n",
    "\t\t    a= ####\n",
    "\t\n",
    "\t    x[i]=y\n",
    "\n",
    "    return x\n",
    "\n",
    "# Test of the function\n",
    "n=1000\n",
    "\n",
    "y=rgaussian(n)\n",
    "x = np. linspace (-5,5,n)\n",
    "plt.plot(x,sps.norm.pdf(x),\"r\",label =\" Theory \")\n",
    "plt.hist(y,50,density=True, label = \"Data\")\n",
    "plt.legend(loc=\"best\")\n",
    "plt.show()\n"
   ]
  },
  {
   "cell_type": "markdown",
   "metadata": {},
   "source": [
    "## Simulation de la loi de Wigner\n",
    "\n",
    "La loi de Wigner (ou du demi-cercle) est la loi de support $[-2, 2]$ et de densité $f(x) = \\frac{1}{2\\pi}\\sqrt{4 - x^2}$.\n",
    "Pour simuler selon une densité $f$ à support compact $C$, le plus simple est d'utiliser une loi uniforme sur ce même compact comme densité instrumentale et de prendre $\\sup_{x\\in C}f(x)$ comme constante pour la majoration (en ignorant la constante de normalisation de l'uniforme 1/|C|).\n",
    "Ici cette constante vaut $1/\\pi$."
   ]
  },
  {
   "cell_type": "code",
   "execution_count": null,
   "metadata": {},
   "outputs": [],
   "source": [
    "n = 1000 #taille de l'échantillon\n",
    "\n",
    "# densité de Wigner\n",
    "def dwigner(x):\n",
    "    return #####\n",
    "\n"
   ]
  },
  {
   "cell_type": "markdown",
   "metadata": {},
   "source": [
    "Représentation graphique"
   ]
  },
  {
   "cell_type": "code",
   "execution_count": null,
   "metadata": {},
   "outputs": [],
   "source": [
    "x = np. linspace (-2,2,1000)\n",
    "f_x = dwigner(x)\n",
    "plt.plot(x,f_x ,\"r\",label =\" Theory \")\n",
    "plt.hist(y,density=True, label = \"Data\")\n",
    "plt.legend(loc=\"best\")\n",
    "plt.show()"
   ]
  },
  {
   "cell_type": "markdown",
   "metadata": {},
   "source": [
    "## Loi des grands nombres et théorème central limite\n",
    "### Question 1"
   ]
  },
  {
   "cell_type": "code",
   "execution_count": 55,
   "metadata": {},
   "outputs": [
    {
     "data": {
      "image/png": "[encoded data removed]",
      "text/plain": [
       "<Figure size 720x720 with 1 Axes>"
      ]
     },
     "metadata": {
      "needs_background": "light"
     },
     "output_type": "display_data"
    }
   ],
   "source": [
    "n = 1000\n",
    "x = 1 + np.arange(n)\n",
    "u = np.random.uniform(-1, 1, n)\n",
    "Sn = np.cumsum(u)/x\n",
    "plt.figure(figsize = (10,10))\n",
    "plt.plot(x,Sn)\n",
    "plt.plot(x, [0 for i in range(n)], 'r')\n",
    "plt.show()"
   ]
  },
  {
   "cell_type": "markdown",
   "metadata": {},
   "source": [
    "### Question 2"
   ]
  },
  {
   "cell_type": "code",
   "execution_count": 54,
   "metadata": {},
   "outputs": [
    {
     "data": {
      "image/png": "[encoded data removed]",
      "text/plain": [
       "<Figure size 720x720 with 1 Axes>"
      ]
     },
     "metadata": {
      "needs_background": "light"
     },
     "output_type": "display_data"
    }
   ],
   "source": [
    "n = 100000\n",
    "x = 1 + np.arange(n)\n",
    "u = np.random.standard_cauchy(n)\n",
    "Sn = np.cumsum(u)/x\n",
    "plt.figure(figsize = (10,10))\n",
    "plt.plot(x,Sn)\n",
    "plt.plot(x, [0 for i in range(n)], 'r')\n",
    "plt.show()"
   ]
  },
  {
   "cell_type": "markdown",
   "metadata": {},
   "source": [
    "### Question 3\n",
    "On a $\\mu = 0$ et $\\sigma = \\sqrt{\\mathbb{E}(X^2)} =\\frac{1}{\\sqrt{3}}$"
   ]
  },
  {
   "cell_type": "code",
   "execution_count": 57,
   "metadata": {},
   "outputs": [
    {
     "data": {
      "image/png": "[encoded data removed]",
      "text/plain": [
       "<Figure size 432x288 with 1 Axes>"
      ]
     },
     "metadata": {
      "needs_background": "light"
     },
     "output_type": "display_data"
    }
   ],
   "source": [
    "n = 1000\n",
    "m = 1000\n",
    "sigma = 1/np.sqrt(3)\n",
    "y = np.zeros(m)\n",
    "for i in range(m) : \n",
    "    y[i] = np.sqrt(n)*np.mean(np.random.uniform(-1,1,n))/sigma\n",
    "\n",
    "x = np. linspace (-5,5,n)\n",
    "plt.plot(x,sps.norm.pdf(x),\"r\",label =\" Theory \")\n",
    "plt.hist(y,50,density=True, label = \"Data\")\n",
    "plt.legend(loc=\"best\")\n",
    "plt.show()"
   ]
  },
  {
   "cell_type": "markdown",
   "metadata": {},
   "source": [
    "## Simulation d'un mélange de gaussienne\n",
    "### Question 1\n",
    "\n",
    "On illustre ici l'application de la méthode d'inversion pour la simulation d'une loi discrète. Soit $X$ une v.a.r. de loi :\n",
    "$$\\mathbb{P}(X=x) = \\left\\{\\begin{array}{ll} 1/2 & \\text{ si }x = 1 \\\\ 1/4 & \\text{ si }x = 2 \\\\ 1/4 & \\text{ si }x = 3 \\\\ 0 & \\text{ sinon} \\end{array} \\right.$$\n",
    "On commence par calculer les valeurs non triviales prises par sa fonction de répartition, puis on transforme les variables uniformes comme suit :"
   ]
  },
  {
   "cell_type": "code",
   "execution_count": null,
   "metadata": {},
   "outputs": [],
   "source": [
    "n=1000\n",
    "p = ####\n",
    "u = ######\n",
    "print(p)\n",
    "y = ##### \n",
    "d = np.diff(np.unique(y)).min()\n",
    "left_of_first_bin = y.min() - float(d)/2\n",
    "right_of_last_bin = y.max() + float(d)/2\n",
    "plt.hist(y, np.arange(left_of_first_bin, right_of_last_bin + d, d),density = True)\n",
    "plt.show()"
   ]
  },
  {
   "cell_type": "markdown",
   "metadata": {},
   "source": [
    "### Question 2\n",
    "On peut alors s'en servir pour simuler, par exemple, selon un mélange des gaussiennes : $\\mathcal{N}(0,1)$, $\\mathcal{N}(5,1/2)$ et $\\mathcal{N}(8,4)$, chacune associée à une des modalités de $K$."
   ]
  },
  {
   "cell_type": "code",
   "execution_count": null,
   "metadata": {},
   "outputs": [],
   "source": [
    "z = ##### \n",
    "x = np. linspace (-5,15,n)\n",
    "f_x = ##### #Densite du melange\n",
    "plt.plot(x,f_x ,\"r\",label =\" Theory \")\n",
    "plt.hist(z,bins = 100,density=True, label = \"Data\")\n",
    "plt.legend(loc=\"best\")\n",
    "plt.show()"
   ]
  },
  {
   "cell_type": "markdown",
   "metadata": {},
   "source": [
    "# Echantillonnage d'importance\n",
    "\n",
    "On cherche à évaluer l'espérance d'une variable aléatoire $X$ gaussienne centrée réduite (de densité $f_X$ et de f.d.r. $F_X$) sachant qu'elle dépasse la valeur 3. La densité conditionnelle s'écrit :\n",
    "\n",
    "$$f_{X|X > 3}(x) = \\frac{f_x(x)}{1-F_X(3)}1_{]3,+\\infty[}(x)$$\n",
    "\n",
    "et on veut estimer :\n",
    "\n",
    "$$\\mathbb{E}(X|X>3) = \\int_{\\mathbb{R}} x f_{X|X > 3}(x) dx$$\n",
    "\n",
    "### Question 1\n",
    "\n",
    "Si on implémente une méthode de rejet de manière naïve --- on tire des gaussiennes centrées réduites et on ne conserve que celles effectivement supérieures à 3 pour calculer l'espérance --- les estimations varient fortement d'un tirage à l'autre (on a même parfois des `nan`, lorsque l'échantillon ne contient aucune valeur supérieure à 3)  et le taux de rejet vaut :"
   ]
  },
  {
   "cell_type": "code",
   "execution_count": null,
   "metadata": {},
   "outputs": [],
   "source": [
    "n = 1000\n",
    "X = ##### \n",
    "Econd = #####\n",
    "print(Econd)\n",
    "#####"
   ]
  },
  {
   "cell_type": "markdown",
   "metadata": {},
   "source": [
    "C'est donc peu efficace. \n",
    "\n",
    "### Question 3\n",
    "\n",
    "On va donc tirer selon une loi instrumentale qui va mieux cibler la région d'intérêt, par exemple une gaussienne d'espérance 3 et de variance 1 (de densité notée $g$) et on utilisera alors l'estimateur :\n",
    "\n",
    "$$\\frac{\\sum_{i=1}^{n}w_ih(X_i)}{\\sum_{i=1}^n w_i}$$\n",
    "\n",
    "avec les poids d'importance $w_i = \\frac{f_{X|X > 3}(X_i)}{g(X_i)}$."
   ]
  },
  {
   "cell_type": "code",
   "execution_count": null,
   "metadata": {},
   "outputs": [],
   "source": [
    "def dnormcond(x,s): ### densité conditionnelle\n",
    "    \n",
    "    return \n",
    "\n",
    "n = 1000\n",
    "\n",
    "y = #####\n",
    "\n",
    "w = #####\n",
    "\n",
    "print(####)\n",
    "\n",
    "m = #####\n",
    "\n",
    "m\n"
   ]
  },
  {
   "cell_type": "markdown",
   "metadata": {},
   "source": [
    "On peut représenter l'histogramme de l'échantillon pondéré (le poids $w_i$ est affecté à chaque simulation dans le calcul de l'histogramme) et le comparer à $f_{X|X > 3}(x)$"
   ]
  },
  {
   "cell_type": "code",
   "execution_count": null,
   "metadata": {},
   "outputs": [],
   "source": [
    "x = np.linspace(3,6,1000)\n",
    "f_x = dnormcond(x,3)\n",
    "plt.plot(x,f_x ,\"r\",label =\" Theory \")\n",
    "plt.hist(y,density=True, bins = 100, weights=w, label = \"Data\")\n",
    "plt.legend(loc=\"best\")\n",
    "plt.show()"
   ]
  },
  {
   "cell_type": "markdown",
   "metadata": {},
   "source": [
    "### Calcul numérique d'une probabilité\n",
    "La variable $1_{\\sin(X)>1/2}$ où $X \\sim \\mathcal{N}(0,1)$ est bien $\\mathcal{L}^1$ car bornée par 1 et donc la loi forte des grands nombres s'applique."
   ]
  },
  {
   "cell_type": "code",
   "execution_count": null,
   "metadata": {},
   "outputs": [],
   "source": [
    "n=100000\n",
    "np.mean(np.sin(np.random.standard_normal(n))>1/2)"
   ]
  },
  {
   "cell_type": "markdown",
   "metadata": {},
   "source": [
    "Visualisation de la convergence"
   ]
  },
  {
   "cell_type": "code",
   "execution_count": null,
   "metadata": {},
   "outputs": [],
   "source": [
    "n=1000\n",
    "x = np.arange(n)\n",
    "Mn = np.cumsum(np.sin(np.random.standard_normal(n))>1/2)/(1+x)\n",
    "plt.plot(x,Mn)\n",
    "plt.show()"
   ]
  }
 ],
 "metadata": {
  "kernelspec": {
   "display_name": "Python 3 (ipykernel)",
   "language": "python",
   "name": "python3"
  },
  "language_info": {
   "codemirror_mode": {
    "name": "ipython",
    "version": 3
   },
   "file_extension": ".py",
   "mimetype": "text/x-python",
   "name": "python",
   "nbconvert_exporter": "python",
   "pygments_lexer": "ipython3",
   "version": "3.9.5"
  }
 },
 "nbformat": 4,
 "nbformat_minor": 2
}
